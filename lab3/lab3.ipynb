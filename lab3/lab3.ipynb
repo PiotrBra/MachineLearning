{
 "cells": [
  {
   "metadata": {},
   "cell_type": "markdown",
   "source": " # Jak działa i czy jest skuteczna metoda OT w etykietowaniu nieznanego i różniącego się od wejściowego i poetykietowanego zbioru danych. \n",
   "id": "b44500a0b0896b51"
  },
  {
   "metadata": {},
   "cell_type": "markdown",
   "source": [
    "## Problem do rozwiązania\n",
    "- GENERUJEMY dwa zbiory „klasyfikujące” te same obiekty, dla których zastosowano jednak inne zbiory danych. Zakładamy, że zbiór A posiada znane etykiety. Zbiór B posiada je także, lecz zakładamy, że ich nie posiada. \n",
    "\n",
    "- Należy dokonać transformacji A w B wykorzystując OT i przydzielić etykiety przykładom ze zbioru B (w przestrzeni wyjściowej).\n",
    "## Zbiór danych\n",
    "- Wybierz dwa dowolne zbiory danych A i B do klasyfikacji zawierający umiarkowaną liczbę przykładów max m1,m2=300-1000 i o stosunkowo średniej wymiarowości (ok N=10-20)\n",
    "- A i B mogą mieć różną ilość przykładów m1 oraz odpowiednio m2. Niech zbiór A będzie nazywany zbiorem ZNANYM (znane są etykiety) zbiór B to zbiór NIEZNANY (etykiety nieznane)\n"
   ],
   "id": "ec2862ec01ba454d"
  },
  {
   "metadata": {
    "ExecuteTime": {
     "end_time": "2025-04-08T17:49:09.463852Z",
     "start_time": "2025-04-08T17:49:09.434347Z"
    }
   },
   "cell_type": "code",
   "source": [
    "import numpy as np\n",
    "from sklearn.preprocessing import StandardScaler\n",
    "from sklearn.datasets import make_classification\n",
    "from sklearn.decomposition import PCA\n",
    "from sklearn.metrics import accuracy_score\n",
    "import ot\n",
    "\n",
    "# Parametry zbiorów\n",
    "N_FEATURES = 15\n",
    "N_CLASSES = 3\n",
    "M = 500\n",
    "\n",
    "# Tworzenie zbiorów: zwiększamy separację klas\n",
    "Ax, Ay = make_classification(\n",
    "    n_samples=M,\n",
    "    n_features=N_FEATURES,\n",
    "    n_informative=12,\n",
    "    n_classes=N_CLASSES,\n",
    "    class_sep=2.0,  # zwiększona separacja klas\n",
    "    random_state=42\n",
    ")\n",
    "\n",
    "Bx, By = make_classification(\n",
    "    n_samples=M,\n",
    "    n_features=N_FEATURES,\n",
    "    n_informative=12,\n",
    "    n_redundant=3,\n",
    "    n_classes=N_CLASSES,\n",
    "    class_sep=2.0,  # zwiększona separacja klas\n",
    "    random_state=43\n",
    ")\n",
    "\n",
    "# Standaryzacja\n",
    "scaler = StandardScaler()\n",
    "Ax = scaler.fit_transform(Ax)\n",
    "Bx = scaler.transform(Bx)\n",
    "\n",
    "# Redukcja wymiarów za pomocą PCA\n",
    "pca = PCA(n_components=10)\n",
    "Ax_pca = pca.fit_transform(Ax)\n",
    "Bx_pca = pca.transform(Bx)\n",
    "\n",
    "# Prawdopodobieństwa równomierne\n",
    "a = np.ones((M,)) / M\n",
    "b = np.ones((M,)) / M\n",
    "\n",
    "# Koszt transportu\n",
    "C = ot.dist(Ax_pca, Bx_pca)\n",
    "C /= C.max()  # normalizacja\n",
    "\n",
    "# Sinkhorn z większą regularyzacją\n",
    "reg = 0.1  # większa regularyzacja\n",
    "T = ot.sinkhorn(a, b, C, reg)\n",
    "\n",
    "# One-hot dla etykiet A\n",
    "Y_onehot = np.zeros((M, N_CLASSES))\n",
    "Y_onehot[np.arange(M), Ay] = 1\n",
    "\n",
    "# Predykcja\n",
    "B_pred_soft = T.T @ Y_onehot\n",
    "B_pred = np.argmax(B_pred_soft, axis=1)\n",
    "\n",
    "# Ocena\n",
    "acc = accuracy_score(By, B_pred)\n",
    "print(f\"Dokładność przypisanych etykiet OT: {acc:.4f}\")\n"
   ],
   "id": "f787d02ef07243e",
   "outputs": [
    {
     "name": "stdout",
     "output_type": "stream",
     "text": [
      "Dokładność przypisanych etykiet OT: 0.4060\n"
     ]
    }
   ],
   "execution_count": 11
  },
  {
   "metadata": {
    "ExecuteTime": {
     "end_time": "2025-04-08T17:20:38.737417Z",
     "start_time": "2025-04-08T17:20:38.710049Z"
    }
   },
   "cell_type": "code",
   "source": [
    "\n",
    "# Parametry zbiorów\n",
    "N_FEATURES = 15\n",
    "N_CLASSES = 3\n",
    "M1 = 500  # liczba próbek w A (ZNANY)\n",
    "M2 = 700  # liczba próbek w B (NIEZNANY)\n",
    "\n",
    "# ===== ZBIÓR A: ZNANY =====\n",
    "A_X, A_y = make_classification(\n",
    "    n_samples=M1,\n",
    "    n_features=N_FEATURES,\n",
    "    n_informative=12,\n",
    "    n_redundant=3,\n",
    "    n_classes=N_CLASSES,\n",
    "    random_state=42\n",
    ")\n",
    "\n",
    "# Standaryzacja\n",
    "scaler_A = StandardScaler()\n",
    "A_X = scaler_A.fit_transform(A_X)\n",
    "\n",
    "# ===== ZBIÓR B: NIEZNANY =====\n",
    "B_X, B_y = make_classification(\n",
    "    n_samples=M2,\n",
    "    n_features=N_FEATURES,\n",
    "    n_informative=12,\n",
    "    n_redundant=3,\n",
    "    n_classes=N_CLASSES,\n",
    "    random_state=999  # inny seed => inny rozkład\n",
    ")\n",
    "\n",
    "# Standaryzacja + transformacja PCA + dodanie szumu\n",
    "scaler_B = StandardScaler()\n",
    "B_X = scaler_B.fit_transform(B_X)\n",
    "\n",
    "pca = PCA(n_components=N_FEATURES)\n",
    "B_X = pca.fit_transform(B_X)\n",
    "\n",
    "# Losowa rotacja\n",
    "rotation = np.linalg.qr(np.random.randn(N_FEATURES, N_FEATURES))[0]\n",
    "B_X = B_X @ rotation\n",
    "\n",
    "# Dodaj lekki szum\n",
    "B_X += np.random.normal(0, 0.1, B_X.shape)\n",
    "\n",
    "# Finalne kształty\n",
    "print(f\"Zbiór A: {A_X.shape}, etykiety: {np.unique(A_y)}\")\n",
    "print(f\"Zbiór B: {B_X.shape}, etykiety: {np.unique(B_y)} (tylko do ewaluacji)\")"
   ],
   "id": "b4ac59bb339cf65c",
   "outputs": [
    {
     "name": "stdout",
     "output_type": "stream",
     "text": [
      "Zbiór A: (500, 15), etykiety: [0 1 2]\n",
      "Zbiór B: (700, 15), etykiety: [0 1 2] (tylko do ewaluacji)\n"
     ]
    }
   ],
   "execution_count": 2
  },
  {
   "metadata": {},
   "cell_type": "markdown",
   "source": [
    "## Zadanie 2\n",
    "\n",
    "Dokonaj transformacji PCA w zbiorze A i w zbiorze B. W każdym z nich przetransformuj przykłady do przestrzeni 2D (maksymalna wariancja) i zwizualizuj. To są twoje empiryczne rozkłady na których będziesz pracować. \n"
   ],
   "id": "f3efe71b7397ef00"
  },
  {
   "metadata": {},
   "cell_type": "code",
   "outputs": [],
   "execution_count": null,
   "source": "",
   "id": "9e6739ab039d01bc"
  },
  {
   "metadata": {},
   "cell_type": "markdown",
   "source": [
    "## Zadanie 3\n",
    "\n",
    "Zaznajom się z problematyką Optimal Transport (np. wykład,  optimal-transport-basics | Kaggle etc.) oraz (dla chętnych!) z blogiem A simple introduction on Sinkhorn distances | by Jianfeng Wang | Medium.\n",
    "W jaki sposób definiuje się wektor wag dla rozkładu eksperymentalnego? Załóż że wagi pochodzą z rozkładu przy pomocy którego wygenerowane zostały dane.\n"
   ],
   "id": "ac4b7e328837436"
  },
  {
   "cell_type": "code",
   "execution_count": null,
   "id": "initial_id",
   "metadata": {
    "collapsed": true
   },
   "outputs": [],
   "source": [
    ""
   ]
  },
  {
   "metadata": {},
   "cell_type": "markdown",
   "source": [
    "## Zadanie 4\n",
    "\n",
    "Ponieważ A jest ZNANYM zbiorem dokonaj transformacji A w B zgodnie z przykładem: Optimal Transport between 2D empirical distributions — POT Python Optimal Transport 0.8.2 documentation (pythonot.github.io). \n"
   ],
   "id": "f64b74c5e5f5665b"
  },
  {
   "metadata": {},
   "cell_type": "code",
   "outputs": [],
   "execution_count": null,
   "source": "",
   "id": "d8673b9091ae5c83"
  },
  {
   "metadata": {},
   "cell_type": "markdown",
   "source": [
    "## Zadanie 5\n",
    "- sróbować zrobić to dla m1!=m2 (preferowałbym zarówno m1>m2 i m2<m1).\n",
    "- Na podstawie wyników transformacji określ nieznane etykiety zbioru B i oceń dokładność tej aproksymacji.\n",
    "- Sformułuj wnioski.\n"
   ],
   "id": "4ada6e4f18fc3054"
  },
  {
   "metadata": {},
   "cell_type": "code",
   "outputs": [],
   "execution_count": null,
   "source": "",
   "id": "8a69b107ccf3e80c"
  }
 ],
 "metadata": {
  "kernelspec": {
   "display_name": "Python 3",
   "language": "python",
   "name": "python3"
  },
  "language_info": {
   "codemirror_mode": {
    "name": "ipython",
    "version": 2
   },
   "file_extension": ".py",
   "mimetype": "text/x-python",
   "name": "python",
   "nbconvert_exporter": "python",
   "pygments_lexer": "ipython2",
   "version": "2.7.6"
  }
 },
 "nbformat": 4,
 "nbformat_minor": 5
}
