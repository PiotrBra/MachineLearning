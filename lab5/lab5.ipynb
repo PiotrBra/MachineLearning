{
 "cells": [
  {
   "cell_type": "markdown",
   "id": "4471f9668b37ab8f",
   "metadata": {},
   "source": [
    "# Deep Double Descent\n",
    "Autor: Piotr Branewski"
   ]
  },
  {
   "cell_type": "markdown",
   "id": "1f2254426d950898",
   "metadata": {},
   "source": [
    "## Założenia\n",
    "1. Zaznajomić się z problemem deep double descent, opisanym na slajdach powyżej i cytowanym na slajdzie tytułowym artykule.\n",
    "2. Wybrać dowolny zbiór danych o niewielkim wymiarze (M~10) i próbkach (wektorach) o współrzędnych (cechach) numerycznych. Liczność zbioru też bez przesady M~5000, .dane wieloklasowe. Zbiór testowy ok 20%. Proszę by zbiory się nie powtarzały by otrzymać lepszą statystykę.\n",
    "3. Skupiamy się na architekturze sieci MLP (vanilla NN ze standardowymi parametrami) i zakładamy, że ilość parametrów sieci jest stała: (a) mniejsza od ilości danych; b) w przybliżeniu równa c) dużo większa.\n"
   ]
  },
  {
   "cell_type": "markdown",
   "id": "2aa7ab9da0f0917b",
   "metadata": {},
   "source": [
    "### Przygotowanie datasetu"
   ]
  },
  {
   "cell_type": "markdown",
   "id": "7b51a68396baabfb",
   "metadata": {},
   "source": [
    "import libs"
   ]
  },
  {
   "cell_type": "code",
   "execution_count": 1,
   "id": "initial_id",
   "metadata": {
    "ExecuteTime": {
     "end_time": "2025-05-20T17:12:12.782577Z",
     "start_time": "2025-05-20T17:12:11.090410Z"
    }
   },
   "outputs": [],
   "source": [
    "import numpy as np\n",
    "import pandas as pd\n",
    "from sklearn.datasets import fetch_openml\n",
    "from sklearn.model_selection import train_test_split\n",
    "from sklearn.neural_network import MLPClassifier\n",
    "from sklearn.preprocessing import StandardScaler\n",
    "from sklearn.metrics import accuracy_score, f1_score"
   ]
  },
  {
   "cell_type": "markdown",
   "id": "ffc336dfe5a0430c",
   "metadata": {},
   "source": [
    "load dataset \"Letter Recognition\"\n",
    "\n",
    "- Features: 16\n",
    "- Samples: use a random subset of 5000 for manageable size\n",
    "- Classes: 26 letter labels"
   ]
  },
  {
   "cell_type": "code",
   "execution_count": 2,
   "id": "9ff628ab7e2a6406",
   "metadata": {
    "ExecuteTime": {
     "end_time": "2025-05-20T17:12:16.285905Z",
     "start_time": "2025-05-20T17:12:16.220442Z"
    }
   },
   "outputs": [],
   "source": [
    "letter = fetch_openml('letter', version=1, as_frame=False)\n",
    "X_full, y_full = letter.data, letter.target\n",
    "np.random.seed(42)\n",
    "indices = np.random.choice(len(X_full), 5000, replace=False)\n",
    "X, y = X_full[indices], y_full[indices]\n",
    "\n",
    "#Function to get a fresh train/test split\n",
    "def get_split(random_state):\n",
    "    X_train, X_test, y_train, y_test = train_test_split(\n",
    "        X, y, test_size=0.2, stratify=y, random_state=random_state\n",
    "    )\n",
    "    scaler = StandardScaler().fit(X_train)\n",
    "    X_train_scaled = scaler.transform(X_train)\n",
    "    X_test_scaled = scaler.transform(X_test)\n",
    "    return X_train_scaled, X_test_scaled, y_train, y_test"
   ]
  },
  {
   "cell_type": "markdown",
   "id": "c3d65d71deb2a580",
   "metadata": {},
   "source": [
    "### Zadanie 1\n",
    "Dla KAŻDEJ z trzech sieci o różnej złożoności, zbadać jak zachowują się (ACC, F1) dla jej różnych realizacji czyli: a) sieć z jedną warstwą ukrytą, 2) dwoma 3) trzema itd.. Każdy wynik powtórzyć co najmniej 3 razy i wyliczyć średnią. Dla uproszczenia możemy przyjąć że ilość neuronów w warstwach ukrytych jest taka sama. Zakładamy, że CAŁKOWITA liczba neuronów jest taka sama (jak w założeniu 3)\n"
   ]
  },
  {
   "cell_type": "code",
   "execution_count": 3,
   "id": "747eeec50fe59706",
   "metadata": {
    "ExecuteTime": {
     "end_time": "2025-05-20T17:15:28.507252400Z",
     "start_time": "2025-05-20T17:12:27.664293Z"
    },
    "jupyter": {
     "is_executing": true
    }
   },
   "outputs": [
    {
     "name": "stdout",
     "output_type": "stream",
     "text": [
      "1 0\n",
      "1 1\n",
      "1 2\n",
      "2 0\n",
      "2 1\n",
      "2 2\n",
      "3 0\n",
      "3 1\n",
      "3 2\n",
      "1 0\n",
      "1 1\n",
      "1 2\n",
      "2 0\n",
      "2 1\n",
      "2 2\n",
      "3 0\n",
      "3 1\n",
      "3 2\n",
      "1 0\n",
      "1 1\n",
      "1 2\n",
      "2 0\n",
      "2 1\n",
      "2 2\n",
      "3 0\n",
      "3 1\n",
      "3 2\n"
     ]
    }
   ],
   "source": [
    "# task 1\n",
    "def build_mlp(n_layers, total_neurons, random_state=None):\n",
    "    neurons = max(total_neurons // n_layers, 1)\n",
    "    hidden_layer_sizes = tuple([neurons] * n_layers)\n",
    "    model = MLPClassifier(\n",
    "        hidden_layer_sizes=hidden_layer_sizes,\n",
    "        activation='relu',\n",
    "        solver='adam',\n",
    "        learning_rate='adaptive',\n",
    "        learning_rate_init=1e-3,\n",
    "        max_iter=10000,\n",
    "        tol=1e-4,\n",
    "        random_state=random_state,\n",
    "        verbose=False\n",
    "    )\n",
    "    return model\n",
    "\n",
    "results = []\n",
    "total_neurons_list = [10, 20, 50]\n",
    "for total_neurons in total_neurons_list:\n",
    "    for n_layers in [1, 2, 3]:\n",
    "        for repeat in range(3):\n",
    "            print(n_layers, repeat)\n",
    "            X_train, X_test, y_train, y_test = get_split(random_state=repeat)\n",
    "            model = build_mlp(n_layers, total_neurons, random_state=repeat)\n",
    "            model.fit(X_train, y_train)\n",
    "            y_pred = model.predict(X_test)\n",
    "            acc = accuracy_score(y_test, y_pred)\n",
    "            f1 = f1_score(y_test, y_pred, average='macro')\n",
    "            results.append({\n",
    "                'total_neurons': total_neurons,\n",
    "                'n_layers': n_layers,\n",
    "                'repeat': repeat,\n",
    "                'accuracy': acc,\n",
    "                'f1_macro': f1\n",
    "            })"
   ]
  },
  {
   "cell_type": "markdown",
   "id": "7797d5ad5f071aaa",
   "metadata": {},
   "source": [
    "results"
   ]
  },
  {
   "cell_type": "code",
   "execution_count": 4,
   "id": "9b86e311f00287b9",
   "metadata": {},
   "outputs": [
    {
     "name": "stdout",
     "output_type": "stream",
     "text": [
      "  total_neurons n_layers  accuracy            f1_macro          \n",
      "                              mean       std      mean       std\n",
      "0            10        1  0.784000  0.021000  0.783222  0.020384\n",
      "1            10        2  0.631333  0.011590  0.627433  0.012280\n",
      "2            10        3  0.340667  0.119182  0.305594  0.141511\n",
      "3            20        1  0.840000  0.010392  0.838942  0.010538\n",
      "4            20        2  0.777000  0.007211  0.776641  0.006894\n",
      "5            20        3  0.686667  0.025541  0.688821  0.028471\n",
      "6            50        1  0.888000  0.013892  0.887846  0.013465\n",
      "7            50        2  0.867000  0.004583  0.866333  0.004117\n",
      "8            50        3  0.840000  0.016643  0.839137  0.017208\n"
     ]
    }
   ],
   "source": [
    "results_df = pd.DataFrame(results)\n",
    "summary = results_df.groupby(['total_neurons', 'n_layers'])[['accuracy', 'f1_macro']].agg(['mean', 'std']).reset_index()\n",
    "print(summary)"
   ]
  },
  {
   "cell_type": "markdown",
   "id": "24118ccd973c8331",
   "metadata": {},
   "source": [
    "### Zadanie 2\n",
    "Co zaobserwujemy zwiększając liczbę warstw przy ustalonej ilości parametrów sieci? Wysnuć hipotezę dlaczego tak się może dziać i czy istnieje jakiś element architektury którego zmiana zmieniłaby tą sytuację. Rekomenduję wykorzystanie obliczenia saturacji w poszczególnych warstwach.\n"
   ]
  },
  {
   "cell_type": "code",
   "execution_count": 5,
   "id": "a207d99f4a49805a",
   "metadata": {},
   "outputs": [],
   "source": [
    "# task 2"
   ]
  },
  {
   "cell_type": "markdown",
   "id": "5b83fa9cdf56889b",
   "metadata": {},
   "source": [
    "### Zadanie 3\n",
    "W kontekście deep double descent proszę zobaczyć co dzieje się gdy analizujemy wyniki z punktu (2) dla 3 sieci o różnych złożonościach z zaszumionymi etykietami."
   ]
  },
  {
   "cell_type": "code",
   "execution_count": 6,
   "id": "175c04ec7bd92cd3",
   "metadata": {},
   "outputs": [],
   "source": [
    "# task 3"
   ]
  }
 ],
 "metadata": {
  "kernelspec": {
   "display_name": "Python 3 (ipykernel)",
   "language": "python",
   "name": "python3"
  },
  "language_info": {
   "codemirror_mode": {
    "name": "ipython",
    "version": 3
   },
   "file_extension": ".py",
   "mimetype": "text/x-python",
   "name": "python",
   "nbconvert_exporter": "python",
   "pygments_lexer": "ipython3",
   "version": "3.11.0"
  }
 },
 "nbformat": 4,
 "nbformat_minor": 5
}
