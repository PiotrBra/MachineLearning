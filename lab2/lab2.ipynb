{
 "cells": [
  {
   "metadata": {},
   "cell_type": "markdown",
   "source": "# Najprostszy klasyfikator i reprezentacja danych\n",
   "id": "1b9aebe461fad527"
  },
  {
   "metadata": {},
   "cell_type": "markdown",
   "source": [
    "1. Wybierz zbiór danych (najlepiej zawierający wartości liczbowe jako cechy\n",
    "oraz cechy kategoryczne jako numery klas. Zbiór powinien być nietrywialny i\n",
    "ma zawierać > 10 cech)."
   ],
   "id": "5fdef498da4cedd1"
  },
  {
   "metadata": {},
   "cell_type": "markdown",
   "source": "Wybrałem zbiór danych Wine Quality, poniżej wczytuje i wyświetlam co w nim jest.",
   "id": "d7876f484ebb4c4e"
  },
  {
   "cell_type": "code",
   "id": "initial_id",
   "metadata": {
    "collapsed": true,
    "ExecuteTime": {
     "end_time": "2025-03-25T18:03:29.613341Z",
     "start_time": "2025-03-25T18:03:29.586340Z"
    }
   },
   "source": [
    "import pandas as pd\n",
    "df = pd.read_csv(\"winequality-red.csv\", sep=\";\")  \n",
    "\n",
    "df.head()\n",
    "\n",
    "\n"
   ],
   "outputs": [
    {
     "data": {
      "text/plain": [
       "   fixed acidity  volatile acidity  citric acid  residual sugar  chlorides  \\\n",
       "0            7.4              0.70         0.00             1.9      0.076   \n",
       "1            7.8              0.88         0.00             2.6      0.098   \n",
       "2            7.8              0.76         0.04             2.3      0.092   \n",
       "3           11.2              0.28         0.56             1.9      0.075   \n",
       "4            7.4              0.70         0.00             1.9      0.076   \n",
       "\n",
       "   free sulfur dioxide  total sulfur dioxide  density    pH  sulphates  \\\n",
       "0                 11.0                  34.0   0.9978  3.51       0.56   \n",
       "1                 25.0                  67.0   0.9968  3.20       0.68   \n",
       "2                 15.0                  54.0   0.9970  3.26       0.65   \n",
       "3                 17.0                  60.0   0.9980  3.16       0.58   \n",
       "4                 11.0                  34.0   0.9978  3.51       0.56   \n",
       "\n",
       "   alcohol  quality  \n",
       "0      9.4        5  \n",
       "1      9.8        5  \n",
       "2      9.8        5  \n",
       "3      9.8        6  \n",
       "4      9.4        5  "
      ],
      "text/html": [
       "<div>\n",
       "<style scoped>\n",
       "    .dataframe tbody tr th:only-of-type {\n",
       "        vertical-align: middle;\n",
       "    }\n",
       "\n",
       "    .dataframe tbody tr th {\n",
       "        vertical-align: top;\n",
       "    }\n",
       "\n",
       "    .dataframe thead th {\n",
       "        text-align: right;\n",
       "    }\n",
       "</style>\n",
       "<table border=\"1\" class=\"dataframe\">\n",
       "  <thead>\n",
       "    <tr style=\"text-align: right;\">\n",
       "      <th></th>\n",
       "      <th>fixed acidity</th>\n",
       "      <th>volatile acidity</th>\n",
       "      <th>citric acid</th>\n",
       "      <th>residual sugar</th>\n",
       "      <th>chlorides</th>\n",
       "      <th>free sulfur dioxide</th>\n",
       "      <th>total sulfur dioxide</th>\n",
       "      <th>density</th>\n",
       "      <th>pH</th>\n",
       "      <th>sulphates</th>\n",
       "      <th>alcohol</th>\n",
       "      <th>quality</th>\n",
       "    </tr>\n",
       "  </thead>\n",
       "  <tbody>\n",
       "    <tr>\n",
       "      <th>0</th>\n",
       "      <td>7.4</td>\n",
       "      <td>0.70</td>\n",
       "      <td>0.00</td>\n",
       "      <td>1.9</td>\n",
       "      <td>0.076</td>\n",
       "      <td>11.0</td>\n",
       "      <td>34.0</td>\n",
       "      <td>0.9978</td>\n",
       "      <td>3.51</td>\n",
       "      <td>0.56</td>\n",
       "      <td>9.4</td>\n",
       "      <td>5</td>\n",
       "    </tr>\n",
       "    <tr>\n",
       "      <th>1</th>\n",
       "      <td>7.8</td>\n",
       "      <td>0.88</td>\n",
       "      <td>0.00</td>\n",
       "      <td>2.6</td>\n",
       "      <td>0.098</td>\n",
       "      <td>25.0</td>\n",
       "      <td>67.0</td>\n",
       "      <td>0.9968</td>\n",
       "      <td>3.20</td>\n",
       "      <td>0.68</td>\n",
       "      <td>9.8</td>\n",
       "      <td>5</td>\n",
       "    </tr>\n",
       "    <tr>\n",
       "      <th>2</th>\n",
       "      <td>7.8</td>\n",
       "      <td>0.76</td>\n",
       "      <td>0.04</td>\n",
       "      <td>2.3</td>\n",
       "      <td>0.092</td>\n",
       "      <td>15.0</td>\n",
       "      <td>54.0</td>\n",
       "      <td>0.9970</td>\n",
       "      <td>3.26</td>\n",
       "      <td>0.65</td>\n",
       "      <td>9.8</td>\n",
       "      <td>5</td>\n",
       "    </tr>\n",
       "    <tr>\n",
       "      <th>3</th>\n",
       "      <td>11.2</td>\n",
       "      <td>0.28</td>\n",
       "      <td>0.56</td>\n",
       "      <td>1.9</td>\n",
       "      <td>0.075</td>\n",
       "      <td>17.0</td>\n",
       "      <td>60.0</td>\n",
       "      <td>0.9980</td>\n",
       "      <td>3.16</td>\n",
       "      <td>0.58</td>\n",
       "      <td>9.8</td>\n",
       "      <td>6</td>\n",
       "    </tr>\n",
       "    <tr>\n",
       "      <th>4</th>\n",
       "      <td>7.4</td>\n",
       "      <td>0.70</td>\n",
       "      <td>0.00</td>\n",
       "      <td>1.9</td>\n",
       "      <td>0.076</td>\n",
       "      <td>11.0</td>\n",
       "      <td>34.0</td>\n",
       "      <td>0.9978</td>\n",
       "      <td>3.51</td>\n",
       "      <td>0.56</td>\n",
       "      <td>9.4</td>\n",
       "      <td>5</td>\n",
       "    </tr>\n",
       "  </tbody>\n",
       "</table>\n",
       "</div>"
      ]
     },
     "execution_count": 9,
     "metadata": {},
     "output_type": "execute_result"
    }
   ],
   "execution_count": 9
  },
  {
   "metadata": {},
   "cell_type": "markdown",
   "source": [
    "## Normalizacja danych\n",
    "\n",
    "Zastosuję metodę min-max scaling."
   ],
   "id": "98304ff905961766"
  },
  {
   "metadata": {
    "ExecuteTime": {
     "end_time": "2025-03-25T18:23:42.913657Z",
     "start_time": "2025-03-25T18:23:42.900723Z"
    }
   },
   "cell_type": "code",
   "source": [
    "from sklearn.preprocessing import MinMaxScaler\n",
    "\n",
    "# Normalizacja cech\n",
    "scaler = MinMaxScaler()\n",
    "features = df.drop(columns=['quality'])\n",
    "normalized_data = scaler.fit_transform(features)\n",
    "\n",
    "print(normalized_data)"
   ],
   "id": "22470654ea94538c",
   "outputs": [
    {
     "name": "stdout",
     "output_type": "stream",
     "text": [
      "[[0.24778761 0.39726027 0.         ... 0.60629921 0.13772455 0.15384615]\n",
      " [0.28318584 0.52054795 0.         ... 0.36220472 0.20958084 0.21538462]\n",
      " [0.28318584 0.43835616 0.04       ... 0.40944882 0.19161677 0.21538462]\n",
      " ...\n",
      " [0.15044248 0.26712329 0.13       ... 0.53543307 0.25149701 0.4       ]\n",
      " [0.11504425 0.35958904 0.12       ... 0.65354331 0.22754491 0.27692308]\n",
      " [0.12389381 0.13013699 0.47       ... 0.51181102 0.19760479 0.4       ]]\n"
     ]
    }
   ],
   "execution_count": 16
  },
  {
   "metadata": {},
   "cell_type": "markdown",
   "source": [
    "### Dlaczego powinniśmy standaryzować/normalizować dane? \n",
    "Powinniśmy standaryzować dane ponieważ, dzięki temu otrzymujemy bardzije ujednolicone dane. Przez co nie faworyzujemy cech o dużych wartościach. Ponadto poprzez standaryzację otrzymujemy poprawiamy dokładność naszych modeli."
   ],
   "id": "ed20f41b8cf981ac"
  },
  {
   "metadata": {},
   "cell_type": "markdown",
   "source": "## Czy można rozpoznać klasy przy pomocy macierz odległości pomiędzy wektorami cech?",
   "id": "ef24c40bc5e89e26"
  },
  {
   "metadata": {},
   "cell_type": "markdown",
   "source": "Tak, można rozpoznać klasy przy użyciu macierzy odległości pomiędzy wektorami cech. Jednym z popularnych podejść jest zastosowanie algorytmu k-NN, który klasyfikuje obiekt na podstawie jego najbliższych sąsiadów w przestrzeni cech.",
   "id": "d847d2adb71c949e"
  },
  {
   "metadata": {},
   "cell_type": "markdown",
   "source": "## Oszacuj dla jakiej definicji odległości, klasy te są widoczne najwyraźniej?",
   "id": "1aafb302a9b52f"
  },
  {
   "metadata": {
    "ExecuteTime": {
     "end_time": "2025-03-25T18:40:47.399171Z",
     "start_time": "2025-03-25T18:40:47.047641Z"
    }
   },
   "cell_type": "code",
   "source": [
    "import pandas as pd\n",
    "from sklearn.model_selection import train_test_split\n",
    "from sklearn.preprocessing import StandardScaler\n",
    "from sklearn.neighbors import KNeighborsClassifier\n",
    "from sklearn.metrics import accuracy_score\n",
    "\n",
    "# Podział na cechy i etykiety\n",
    "X = df.drop(columns=[\"quality\"])\n",
    "y = df[\"quality\"]\n",
    "\n",
    "scaler = MinMaxScaler()\n",
    "X_scaled = scaler.fit_transform(X)\n",
    "\n",
    "# Podział na zbiory uczące i testowe\n",
    "X_train, X_test, y_train, y_test = train_test_split(X_scaled, y, test_size=0.2, random_state=42)\n",
    "\n",
    "# Definiujemy różne metryki do testów\n",
    "metrics = [\"euclidean\", \"manhattan\", \"chebyshev\", \"minkowski\"]\n"
   ],
   "id": "13c641f795f3c7e3",
   "outputs": [
    {
     "name": "stdout",
     "output_type": "stream",
     "text": [
      "Metryka: euclidean, Accuracy: 0.5719\n",
      "Metryka: manhattan, Accuracy: 0.5563\n",
      "Metryka: chebyshev, Accuracy: 0.5250\n",
      "Metryka: minkowski, Accuracy: 0.5719\n"
     ]
    }
   ],
   "execution_count": 28
  },
  {
   "metadata": {},
   "cell_type": "markdown",
   "source": "Na podstawie wyników widzimy, że dla metryki manhattan klasy są najbardziej widoczne chociaż wyniki są stosunkowo niskie. Nie wiem czemu",
   "id": "429da2ba763c8c05"
  },
  {
   "metadata": {
    "ExecuteTime": {
     "end_time": "2025-03-25T18:37:33.165021Z",
     "start_time": "2025-03-25T18:37:32.840296Z"
    }
   },
   "cell_type": "code",
   "source": [
    "from sklearn.model_selection import train_test_split, cross_val_score\n",
    "from sklearn.neighbors import KNeighborsClassifier\n",
    "\n",
    "\n",
    "# Lista metryk\n",
    "metrics = ['euclidean', 'manhattan', 'chebyshev', 'minkowski']\n",
    "\n",
    "# Testowanie każdej metryki\n",
    "results = {}\n",
    "for metric in metrics:\n",
    "    knn = KNeighborsClassifier(metric=metric)\n",
    "    accuracy = cross_val_score(knn, X_train, y_train, cv=5, scoring='accuracy').mean()\n",
    "    results[metric] = accuracy\n",
    "\n",
    "# Wypisz wyniki\n",
    "for metric, accuracy in results.items():\n",
    "    print(f'Metryka: {metric}, Accuracy: {accuracy:.4f}')\n",
    "\n",
    "# Sprawdź, która metryka daje najlepszy wynik\n",
    "best_metric = max(results, key=results.get)\n",
    "print(f'Optymalna metryka: {best_metric} z Accuracy: {results[best_metric]:.4f}')\n"
   ],
   "id": "55b0c056f079559",
   "outputs": [
    {
     "name": "stdout",
     "output_type": "stream",
     "text": [
      "Metryka: euclidean, Accuracy: 0.4843\n",
      "Metryka: manhattan, Accuracy: 0.4995\n",
      "Metryka: chebyshev, Accuracy: 0.4897\n",
      "Metryka: minkowski, Accuracy: 0.4843\n",
      "Optymalna metryka: manhattan z Accuracy: 0.4995\n"
     ]
    }
   ],
   "execution_count": 23
  },
  {
   "metadata": {
    "ExecuteTime": {
     "end_time": "2025-03-25T18:37:22.438603Z",
     "start_time": "2025-03-25T18:37:22.434605Z"
    }
   },
   "cell_type": "code",
   "source": "",
   "id": "5bb95fba5c804ffd",
   "outputs": [],
   "execution_count": null
  },
  {
   "metadata": {},
   "cell_type": "code",
   "outputs": [],
   "execution_count": null,
   "source": "",
   "id": "9b5b3398a7d0ca41"
  }
 ],
 "metadata": {
  "kernelspec": {
   "display_name": "Python 3",
   "language": "python",
   "name": "python3"
  },
  "language_info": {
   "codemirror_mode": {
    "name": "ipython",
    "version": 2
   },
   "file_extension": ".py",
   "mimetype": "text/x-python",
   "name": "python",
   "nbconvert_exporter": "python",
   "pygments_lexer": "ipython2",
   "version": "2.7.6"
  }
 },
 "nbformat": 4,
 "nbformat_minor": 5
}
