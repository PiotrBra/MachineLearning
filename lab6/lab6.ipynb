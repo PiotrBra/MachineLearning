{
 "cells": [
  {
   "metadata": {},
   "cell_type": "markdown",
   "source": [
    "# Clustering\n",
    "Autor: Piotr Branewski"
   ],
   "id": "216c5138bd9cbe51"
  },
  {
   "metadata": {},
   "cell_type": "markdown",
   "source": [
    "## Założenia i cel\n",
    "1. Załóżmy, że jesteśmy w stanie zaetykietować x% (np.. 5%) zbioru danych określając ich przynależność do K klas. Zbiór danych proszę wybrać dowolny (najlepiej jednak zrobić to na 2 zbiorach danych.\n",
    "2. CEL: Zaetykietuj resztę obiektów elementów danych wykorzystując metody klasteryzacji\n"
   ],
   "id": "32a35322aa178cf9"
  },
  {
   "metadata": {},
   "cell_type": "markdown",
   "source": [
    "## Zadanie - szczegóły\n",
    "1. Poprzez klasteryzację zbioru na C klastrów „zgadnij” jak największą liczbę etykiet. Wybierz odpowiednio „silny” algorytm klasteryzacji. Wykorzystaj Clustering — scikit-learn 1.2.2 documentation i zamieszczony na Teams wykład. Możesz posłużyć się podziałem grafu najbliższych sąsiadów (graph cut and partition).\n",
    "2. Na odgadniętych etykietach (i tych wcześniej znanych – zbiór treningowy) naucz sieć (także jej architektura może być dowolna) rozpoznawać klasy.\n",
    "3. Dane bez odgadniętych etykiet użyj jako zbiór testowy. \n",
    "4. Powtórz 1-3 kilka razy."
   ],
   "id": "5b7b4ae000e3751e"
  },
  {
   "cell_type": "code",
   "execution_count": null,
   "id": "initial_id",
   "metadata": {
    "collapsed": true
   },
   "outputs": [],
   "source": ""
  }
 ],
 "metadata": {
  "kernelspec": {
   "display_name": "Python 3",
   "language": "python",
   "name": "python3"
  },
  "language_info": {
   "codemirror_mode": {
    "name": "ipython",
    "version": 2
   },
   "file_extension": ".py",
   "mimetype": "text/x-python",
   "name": "python",
   "nbconvert_exporter": "python",
   "pygments_lexer": "ipython2",
   "version": "2.7.6"
  }
 },
 "nbformat": 4,
 "nbformat_minor": 5
}
